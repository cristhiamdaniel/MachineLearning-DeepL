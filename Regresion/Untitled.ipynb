{
 "cells": [
  {
   "cell_type": "code",
   "execution_count": 1,
   "id": "3540e69a-8053-4433-8b78-80c0adb482e1",
   "metadata": {},
   "outputs": [],
   "source": [
    "# Importamos las librerias necesarias\n",
    "import numpy as np\n",
    "import matplotlib.pyplot as plt\n",
    "import scipy.stats as stats\n",
    "from ipywidgets import interact, IntSlider"
   ]
  },
  {
   "cell_type": "code",
   "execution_count": 73,
   "id": "978ebe73-2193-4c03-b2c0-19ffc09e4b0a",
   "metadata": {},
   "outputs": [],
   "source": [
    "# Creación del conjunto de datos independiente x\n",
    "x = np.array(range(1, 11))\n",
    "np.random.seed(10)\n",
    "\n",
    "# Creación de y1 (distribución lineal)\n",
    "pendiente = 2\n",
    "intercepto = 3\n",
    "ruido = np.random.randn(len(x)) * 2  # Ruido aleatorio\n",
    "y1 = pendiente * x + intercepto + ruido\n",
    "\n",
    "# Creación de y2 (distribución cuadrática)\n",
    "coef_cuadratico = 1\n",
    "coef_lineal = 2\n",
    "intercepto = 3\n",
    "ruido = np.random.randn(len(x)) * 20  # Ruido aleatorio más grande\n",
    "y2 = coef_cuadratico * x**2 + coef_lineal * x + intercepto + ruido\n",
    "\n",
    "# Creación de y3 (distribución sinusoidal)\n",
    "amplitud = 3\n",
    "frecuencia = 0.5\n",
    "ruido = np.random.randn(len(x)) * 2  # Ruido aleatorio\n",
    "y3 = amplitud * np.sin(frecuencia * x) + ruido"
   ]
  },
  {
   "cell_type": "code",
   "execution_count": 74,
   "id": "3a3867f7",
   "metadata": {},
   "outputs": [
    {
     "name": "stdout",
     "output_type": "stream",
     "text": [
      "[ 7.66317301  8.43055795  5.90919942 10.9832323  14.24267195 13.55982888\n",
      " 17.53102317 19.21709705 21.00858286 22.65079958]\n",
      "\n",
      "[ 14.6605238   35.06074748  -1.30131341  47.56548156  42.5726026\n",
      "  59.90275226  43.26795576  85.70273757 131.69074004 101.40390228]\n",
      "\n",
      "[-2.51717995 -0.96233164  3.52462529  7.49782694  4.04279894  3.76860445\n",
      " -0.85405125  0.52558527 -3.47508633 -1.65036445]\n"
     ]
    }
   ],
   "source": [
    "print(y1)\n",
    "print()\n",
    "print(y2)\n",
    "print()\n",
    "print(y3)"
   ]
  },
  {
   "cell_type": "code",
   "execution_count": 59,
   "id": "1f5dda48-10f1-4cb8-a70c-eda5049e6c29",
   "metadata": {},
   "outputs": [
    {
     "data": {
      "image/png": "[encoded data removed]",
      "text/plain": [
       "<Figure size 720x1080 with 3 Axes>"
      ]
     },
     "metadata": {
      "needs_background": "light"
     },
     "output_type": "display_data"
    }
   ],
   "source": [
    "# Visualización\n",
    "plt.figure(figsize=(10, 15))\n",
    "\n",
    "plt.subplot(3, 1, 1)\n",
    "plt.scatter(x, y1, color='blue')\n",
    "plt.title(\"Distribución Lineal\")\n",
    "plt.xlabel(\"x\")\n",
    "plt.ylabel(\"y1\")\n",
    "plt.grid()\n",
    "\n",
    "plt.subplot(3, 1, 2)\n",
    "plt.scatter(x, y2, color='red')\n",
    "plt.title(\"Distribución Cuadrática\")\n",
    "plt.xlabel(\"x\")\n",
    "plt.ylabel(\"y2\")\n",
    "plt.grid()\n",
    "\n",
    "plt.subplot(3, 1, 3)\n",
    "plt.scatter(x, y3, color='green')\n",
    "plt.title(\"Distribución Sinusoidal\")\n",
    "plt.xlabel(\"x\")\n",
    "plt.ylabel(\"y3\")\n",
    "plt.grid()\n",
    "\n",
    "plt.tight_layout()\n",
    "plt.show()"
   ]
  },
  {
   "cell_type": "code",
   "execution_count": 60,
   "id": "75f802e5-afe6-4557-9bdc-26db2e13bed7",
   "metadata": {},
   "outputs": [
    {
     "name": "stdout",
     "output_type": "stream",
     "text": [
      "Coeficiente de correlación entre x y y1: 0.9651266111607985\n",
      "Coeficiente de correlación entre x y y2: 0.8660437975211178\n",
      "Coeficiente de correlación entre x y y2: -0.2601403241741653\n"
     ]
    }
   ],
   "source": [
    "# Cálculo de la correlación de Pearson\n",
    "corr_coef_y1, _ = stats.pearsonr(x, y1)\n",
    "corr_coef_y2, _ = stats.pearsonr(x, y2)\n",
    "corr_coef_y3, _ = stats.pearsonr(x, y3)\n",
    "\n",
    "print(\"Coeficiente de correlación entre x y y1:\", corr_coef_y1)\n",
    "print(\"Coeficiente de correlación entre x y y2:\", corr_coef_y2)\n",
    "print(\"Coeficiente de correlación entre x y y2:\", corr_coef_y3)"
   ]
  },
  {
   "cell_type": "code",
   "execution_count": 61,
   "id": "21026e7e-9110-476a-a818-241335847ac7",
   "metadata": {},
   "outputs": [
    {
     "name": "stdout",
     "output_type": "stream",
     "text": [
      "Coeficiente de correlación de Spearman entre x y y1: 0.9515151515151514\n",
      "Coeficiente de correlación de Spearman entre x y y2: 0.8909090909090909\n",
      "Coeficiente de correlación de Spearman entre x y y2: -0.19999999999999998\n"
     ]
    }
   ],
   "source": [
    "# Cálculo del coeficiente de correlación de Spearman\n",
    "spearman_corr_y1, _ = stats.spearmanr(x, y1)\n",
    "spearman_corr_y2, _ = stats.spearmanr(x, y2)\n",
    "spearman_corr_y3, _ = stats.spearmanr(x, y3)\n",
    "\n",
    "print(\"Coeficiente de correlación de Spearman entre x y y1:\", spearman_corr_y1)\n",
    "print(\"Coeficiente de correlación de Spearman entre x y y2:\", spearman_corr_y2)\n",
    "print(\"Coeficiente de correlación de Spearman entre x y y2:\", spearman_corr_y3)\n"
   ]
  },
  {
   "cell_type": "code",
   "execution_count": 62,
   "id": "7b0a0931-849d-4260-bb72-32a9edb07caf",
   "metadata": {},
   "outputs": [
    {
     "name": "stdout",
     "output_type": "stream",
     "text": [
      "Residuales de y1: [ 1.95541543  0.85349836 -3.53716218 -0.3324313   1.05770634 -1.49443874\n",
      "  0.60745354  0.42422542  0.34640922  0.11932393]\n",
      "\n",
      "Residuales de y2: [ 10.33222484  19.23815651 -28.61819638   8.75430658  -7.73286439\n",
      "  -1.89700674 -30.02609524   0.91439455  35.40810501  -6.37302475]\n",
      "\n",
      "Residuales de y3: [-4.87394011 -3.01537681  1.7752951   6.05221174  2.90089872  2.93041922\n",
      " -1.3885215   0.29483    -3.40212661 -1.27368975]\n"
     ]
    }
   ],
   "source": [
    "def calcular_parametros_lineales(x, y):\n",
    "    n = len(x)\n",
    "    x_media = np.mean(x)\n",
    "    y_media = np.mean(y)\n",
    "\n",
    "    # Calculo de la pendiente (beta_1)\n",
    "    numerador = sum((x - x_media) * (y - y_media))\n",
    "    denominador = sum((x - x_media) ** 2)\n",
    "    beta_1 = numerador / denominador\n",
    "\n",
    "    # Calculo del intercepto (beta_0)\n",
    "    beta_0 = y_media - beta_1 * x_media\n",
    "\n",
    "    return beta_0, beta_1\n",
    "\n",
    "def predecir_y(x, beta_0, beta_1):\n",
    "    return beta_0 + beta_1 * x\n",
    "\n",
    "# Para y1\n",
    "beta_0_y1, beta_1_y1 = calcular_parametros_lineales(x, y1)\n",
    "y1_predicha = predecir_y(x, beta_0_y1, beta_1_y1)\n",
    "\n",
    "# Para y2\n",
    "beta_0_y2, beta_1_y2 = calcular_parametros_lineales(x, y2)\n",
    "y2_predicha = predecir_y(x, beta_0_y2, beta_1_y2)\n",
    "\n",
    "# Para y3\n",
    "beta_0_y3, beta_1_y3 = calcular_parametros_lineales(x, y3)\n",
    "y3_predicha = predecir_y(x, beta_0_y3, beta_1_y3)\n",
    "\n",
    "# Cálculo de residuales\n",
    "residuales_y1 = y1 - y1_predicha\n",
    "residuales_y2 = y2 - y2_predicha\n",
    "residuales_y3 = y3 - y3_predicha\n",
    "\n",
    "print(\"Residuales de y1:\", residuales_y1)\n",
    "print()\n",
    "print(\"Residuales de y2:\", residuales_y2)\n",
    "print()\n",
    "print(\"Residuales de y3:\", residuales_y3)"
   ]
  },
  {
   "cell_type": "code",
   "execution_count": 57,
   "id": "b0ccd1db-a9b7-426a-bff0-7c34fc5a5fdb",
   "metadata": {},
   "outputs": [
    {
     "data": {
      "image/png": "[encoded data removed]",
      "text/plain": [
       "<Figure size 432x288 with 1 Axes>"
      ]
     },
     "metadata": {
      "needs_background": "light"
     },
     "output_type": "display_data"
    },
    {
     "data": {
      "image/png": "[encoded data removed]",
      "text/plain": [
       "<Figure size 432x288 with 1 Axes>"
      ]
     },
     "metadata": {
      "needs_background": "light"
     },
     "output_type": "display_data"
    },
    {
     "data": {
      "image/png": "[encoded data removed]",
      "text/plain": [
       "<Figure size 432x288 with 1 Axes>"
      ]
     },
     "metadata": {
      "needs_background": "light"
     },
     "output_type": "display_data"
    }
   ],
   "source": [
    "# Función para graficar los residuales\n",
    "def graficar_residuales(x, residuales, titulo):\n",
    "    plt.scatter(x, residuales)\n",
    "    plt.axhline(y=0, color='r', linestyle='-')\n",
    "    plt.title(f\"Residuales del modelo para {titulo}\")\n",
    "    plt.xlabel(\"x\")\n",
    "    plt.ylabel(\"Residuales\")\n",
    "    plt.show()\n",
    "\n",
    "# Graficar los residuales para y1\n",
    "graficar_residuales(x, residuales_y1, \"y1\")\n",
    "\n",
    "# Graficar los residuales para y2\n",
    "graficar_residuales(x, residuales_y2, \"y2\")\n",
    "\n",
    "# Graficar los residuales para y3\n",
    "graficar_residuales(x, residuales_y3, \"y3\")"
   ]
  },
  {
   "cell_type": "code",
   "execution_count": 70,
   "id": "62234578-f46a-4ee8-92b9-bd02b9b04baf",
   "metadata": {},
   "outputs": [
    {
     "data": {
      "application/vnd.jupyter.widget-view+json": {
       "model_id": "8af1b10e15bb437fa313a3989c27ccca",
       "version_major": 2,
       "version_minor": 0
      },
      "text/plain": [
       "interactive(children=(IntSlider(value=0, description='Época:', max=99), Output()), _dom_classes=('widget-inter…"
      ]
     },
     "metadata": {},
     "output_type": "display_data"
    },
    {
     "data": {
      "application/vnd.jupyter.widget-view+json": {
       "model_id": "e1b32abd56694ed995ba51d3e2a0f59d",
       "version_major": 2,
       "version_minor": 0
      },
      "text/plain": [
       "interactive(children=(IntSlider(value=0, description='Época:', max=99), Output()), _dom_classes=('widget-inter…"
      ]
     },
     "metadata": {},
     "output_type": "display_data"
    },
    {
     "data": {
      "application/vnd.jupyter.widget-view+json": {
       "model_id": "7857fc41b4e24ac1b3dffaf892be9cfe",
       "version_major": 2,
       "version_minor": 0
      },
      "text/plain": [
       "interactive(children=(IntSlider(value=0, description='Época:', max=99), Output()), _dom_classes=('widget-inter…"
      ]
     },
     "metadata": {},
     "output_type": "display_data"
    },
    {
     "data": {
      "text/plain": [
       "<function __main__.run_linear_regression_and_plot.<locals>.plot_regression(epoch)>"
      ]
     },
     "execution_count": 70,
     "metadata": {},
     "output_type": "execute_result"
    }
   ],
   "source": [
    "import numpy as np\n",
    "import matplotlib.pyplot as plt\n",
    "from ipywidgets import interact, IntSlider\n",
    "\n",
    "# Normalización de los datos\n",
    "x = (x - np.mean(x)) / np.std(x)\n",
    "y1 = (y1 - np.mean(y1)) / np.std(y1)\n",
    "y2 = (y2 - np.mean(y2)) / np.std(y2)\n",
    "y3 = (y3 - np.mean(y3)) / np.std(y3)\n",
    "\n",
    "def run_linear_regression_and_plot(x, y):\n",
    "    # Parámetros iniciales y configuración\n",
    "    beta_0 = 0\n",
    "    beta_1 = 0\n",
    "    learning_rate = 0.01\n",
    "    epochs = 10000\n",
    "    cost_history = []\n",
    "    beta_0_history = []\n",
    "    beta_1_history = []\n",
    "\n",
    "    # Función de costo\n",
    "    def compute_cost(beta_0, beta_1, x, y):\n",
    "        m = len(y)\n",
    "        total_cost = (1/(2*m)) * np.sum((beta_0 + beta_1 * x - y)**2)\n",
    "        return total_cost\n",
    "\n",
    "    # Gradiente descendente\n",
    "    for epoch in range(epochs):\n",
    "        y_pred = beta_0 + beta_1 * x\n",
    "        residuals = y_pred - y\n",
    "        beta_0_gradient = np.sum(residuals) / len(y)\n",
    "        beta_1_gradient = np.sum(residuals * x) / len(y)\n",
    "        beta_0 -= learning_rate * beta_0_gradient\n",
    "        beta_1 -= learning_rate * beta_1_gradient\n",
    "\n",
    "        if epoch % 100 == 0:\n",
    "            cost = compute_cost(beta_0, beta_1, x, y)\n",
    "            cost_history.append(cost)\n",
    "            beta_0_history.append(beta_0)\n",
    "            beta_1_history.append(beta_1)\n",
    "\n",
    "    def plot_regression(epoch):\n",
    "        plt.figure(figsize=(14, 7))\n",
    "        plt.subplot(1, 2, 1)\n",
    "        plt.scatter(x, y, color='blue', label='Datos')\n",
    "        plt.plot(x, beta_0_history[epoch] + beta_1_history[epoch] * x, color='red', label='Ajuste Lineal')\n",
    "        plt.title(f'Regresión Lineal - Época {epoch}')\n",
    "        plt.xlabel('x')\n",
    "        plt.ylabel('y')\n",
    "        plt.legend()\n",
    "\n",
    "        plt.subplot(1, 2, 2)\n",
    "        plt.plot(cost_history[:epoch+1])\n",
    "        plt.title('Convergencia de la Función de Costo')\n",
    "        plt.xlabel('Época')\n",
    "        plt.ylabel('Costo')\n",
    "        plt.show()\n",
    "\n",
    "    return plot_regression, cost_history, beta_0_history, beta_1_history\n",
    "\n",
    "# Ejemplo de uso con y1\n",
    "plot_regression_y1, cost_history_y1, beta_0_history_y1, beta_1_history_y1 = run_linear_regression_and_plot(x, y1)\n",
    "interact(plot_regression_y1, epoch=IntSlider(min=0, max=len(cost_history_y1)-1, step=1, value=0, description='Época:'))\n",
    "\n",
    "# Ejemplo de uso con y2\n",
    "plot_regression_y2, cost_history_y2, beta_0_history_y2, beta_1_history_y2 = run_linear_regression_and_plot(x, y2)\n",
    "interact(plot_regression_y2, epoch=IntSlider(min=0, max=len(cost_history_y2)-1, step=1, value=0, description='Época:'))\n",
    "\n",
    "# Ejemplo de uso con y3\n",
    "plot_regression_y3, cost_history_y3, beta_0_history_y3, beta_1_history_y3 = run_linear_regression_and_plot(x, y3)\n",
    "interact(plot_regression_y3, epoch=IntSlider(min=0, max=len(cost_history_y3)-1, step=1, value=0, description='Época:'))\n"
   ]
  },
  {
   "cell_type": "code",
   "execution_count": 71,
   "id": "5590e745",
   "metadata": {},
   "outputs": [
    {
     "name": "stdout",
     "output_type": "stream",
     "text": [
      "0.034265312214636544\n",
      "\n",
      "0.12498407038760054\n",
      "\n",
      "0.46616350586928024\n"
     ]
    }
   ],
   "source": [
    "print(cost_history_y1[-1])\n",
    "print()\n",
    "print(cost_history_y2[-1])\n",
    "print()\n",
    "print(cost_history_y3[-1])"
   ]
  },
  {
   "cell_type": "code",
   "execution_count": 72,
   "id": "cb16e940",
   "metadata": {},
   "outputs": [
    {
     "name": "stdout",
     "output_type": "stream",
     "text": [
      "y1 - R²: 0.931469375570727, MSE: 0.06853062442927309, RMSE: 0.2617835449933267, MAE: 0.19284093030804883\n",
      "y2 - R²: 0.750031859224799, MSE: 0.24996814077520108, RMSE: 0.4999681397601262, MAE: 0.3916283297333518\n",
      "y3 - R²: 0.06767298826143975, MSE: 0.9323270117385605, RMSE: 0.9655708217104328, MAE: 0.8322090835777584\n"
     ]
    }
   ],
   "source": [
    "from sklearn.metrics import mean_squared_error, mean_absolute_error, r2_score\n",
    "\n",
    "# Función para calcular las métricas\n",
    "def calculate_metrics(y_true, y_pred):\n",
    "    r2 = r2_score(y_true, y_pred)\n",
    "    mse = mean_squared_error(y_true, y_pred)\n",
    "    rmse = np.sqrt(mse)\n",
    "    mae = mean_absolute_error(y_true, y_pred)\n",
    "    return r2, mse, rmse, mae\n",
    "\n",
    "# Calcula las predicciones finales para y1, y2 y y3\n",
    "y1_pred = beta_0_history_y1[-1] + beta_1_history_y1[-1] * x\n",
    "y2_pred = beta_0_history_y2[-1] + beta_1_history_y2[-1] * x\n",
    "y3_pred = beta_0_history_y3[-1] + beta_1_history_y3[-1] * x\n",
    "\n",
    "# Calcula y muestra las métricas para cada conjunto de datos\n",
    "metrics_y1 = calculate_metrics(y1, y1_pred)\n",
    "metrics_y2 = calculate_metrics(y2, y2_pred)\n",
    "metrics_y3 = calculate_metrics(y3, y3_pred)\n",
    "\n",
    "print(f\"y1 - R²: {metrics_y1[0]}, MSE: {metrics_y1[1]}, RMSE: {metrics_y1[2]}, MAE: {metrics_y1[3]}\")\n",
    "print(f\"y2 - R²: {metrics_y2[0]}, MSE: {metrics_y2[1]}, RMSE: {metrics_y2[2]}, MAE: {metrics_y2[3]}\")\n",
    "print(f\"y3 - R²: {metrics_y3[0]}, MSE: {metrics_y3[1]}, RMSE: {metrics_y3[2]}, MAE: {metrics_y3[3]}\")\n"
   ]
  },
  {
   "cell_type": "markdown",
   "id": "63571f05",
   "metadata": {},
   "source": [
    "Los resultados de las métricas para tus conjuntos de datos `y1`, `y2` y `y3` se pueden interpretar de la siguiente manera:\n",
    "\n",
    "1. **Resultados para y1**:\n",
    "   - **R² (Coeficiente de Determinación)**: 0.9315. Este valor está muy cerca de 1, lo que indica un muy buen ajuste del modelo a los datos. La mayoría de la variabilidad en `y1` es explicada por el modelo.\n",
    "   - **MSE (Error Cuadrático Medio)**: 0.0685. Este es un valor bajo, lo que sugiere que las predicciones están muy cerca de los valores reales.\n",
    "   - **RMSE (Raíz del Error Cuadrático Medio)**: 0.2618. Al igual que el MSE, un RMSE bajo indica un buen ajuste. Además, está en las mismas unidades que `y1`, facilitando su interpretación.\n",
    "   - **MAE (Error Absoluto Medio)**: 0.1928. Este es el error medio absoluto de las predicciones, también sugiriendo un buen ajuste.\n",
    "\n",
    "2. **Resultados para y2**:\n",
    "   - **R²**: 0.7500. Este valor es considerablemente más bajo que el de `y1`, lo que indica un ajuste peor. Aproximadamente el 75% de la variabilidad en `y2` es explicada por el modelo.\n",
    "   - **MSE**: 0.2500. Este valor es más alto que en `y1`, lo que sugiere que las predicciones del modelo para `y2` no son tan precisas.\n",
    "   - **RMSE**: 0.5000. El RMSE más alto refleja un peor ajuste comparado con `y1`.\n",
    "   - **MAE**: 0.3916. Este valor más alto indica que, en promedio, los errores de las predicciones son mayores en `y2`.\n",
    "\n",
    "3. **Resultados para y3**:\n",
    "   - **R²**: 0.0677. Este valor es bastante bajo, lo que sugiere un mal ajuste del modelo a los datos. El modelo explica muy poco de la variabilidad en `y3`.\n",
    "   - **MSE**: 0.9323. Un valor alto, indicando que las predicciones están bastante alejadas de los valores reales.\n",
    "   - **RMSE**: 0.9656. Un valor alto, reflejando el mal ajuste del modelo.\n",
    "   - **MAE**: 0.8322. Similar a MSE y RMSE, este valor alto indica que hay una gran discrepancia entre las predicciones y los valores reales.\n",
    "\n",
    "**Conclusión**:\n",
    "- El modelo de regresión lineal se ajusta bastante bien a `y1`, moderadamente bien a `y2`, y muy mal a `y3`. Esto sugiere que mientras `y1` podría tener una relación lineal con `x`, `y2` tiene una relación menos clara y `y3` probablemente tiene una relación no lineal con `x`, como se esperaría de una distribución sinusoidal."
   ]
  },
  {
   "cell_type": "code",
   "execution_count": null,
   "id": "7cda4c08",
   "metadata": {},
   "outputs": [],
   "source": []
  }
 ],
 "metadata": {
  "kernelspec": {
   "display_name": "Python 3",
   "language": "python",
   "name": "python3"
  },
  "language_info": {
   "codemirror_mode": {
    "name": "ipython",
    "version": 3
   },
   "file_extension": ".py",
   "mimetype": "text/x-python",
   "name": "python",
   "nbconvert_exporter": "python",
   "pygments_lexer": "ipython3",
   "version": "3.8.8"
  }
 },
 "nbformat": 4,
 "nbformat_minor": 5
}
